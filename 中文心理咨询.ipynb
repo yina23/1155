{
 "cells": [
  {
   "cell_type": "markdown",
   "id": "5d61e60e",
   "metadata": {},
   "source": [
    "#  一、数据集结构"
   ]
  },
  {
   "cell_type": "code",
   "execution_count": 93,
   "id": "b169eb95",
   "metadata": {},
   "outputs": [],
   "source": [
    "# 使用github上的库（kaggle上的可能是旧版本）\n",
    "import efaqa_corpus_zh\n",
    "data = list(efaqa_corpus_zh.load())\n"
   ]
  },
  {
   "cell_type": "code",
   "execution_count": 94,
   "id": "01a88297",
   "metadata": {},
   "outputs": [
    {
     "name": "stdout",
     "output_type": "stream",
     "text": [
      "帖子数量 20000\n",
      "文本条数（不计title） 207745\n",
      "帖均文本条数 10.38725\n",
      "文本平均长度（不计title）/字 17.68224987364317\n"
     ]
    }
   ],
   "source": [
    "num_post = len(data)\n",
    "num_sentence = sum([len(post[\"chats\"]) for post in data])\n",
    "avg_num_word = sum(len(chat[\"value\"]) for post in data for chat in post[\"chats\"]) / num_sentence\n",
    "\n",
    "print(\"帖子数量\", num_post)\n",
    "print(\"文本条数（不计title）\", num_sentence)\n",
    "print(\"帖均文本条数\", num_sentence / num_post)\n",
    "print(\"文本平均长度（不计title）/字\", avg_num_word)"
   ]
  },
  {
   "cell_type": "code",
   "execution_count": 95,
   "id": "cc73f93e",
   "metadata": {},
   "outputs": [
    {
     "data": {
      "text/plain": [
       "{'chats': [{'label': {'knowledge': False, 'negative': False, 'question': True},\n",
       "   'sender': 'audience',\n",
       "   'time': '11:02:45',\n",
       "   'type': 'textMessage',\n",
       "   'value': '这样的议论是针对谁呢？'},\n",
       "  {'label': {'knowledge': False, 'negative': False, 'question': False},\n",
       "   'sender': 'audience',\n",
       "   'time': '11:08:38',\n",
       "   'type': 'textMessage',\n",
       "   'value': '我也是一个从小被这样训到大的女生哦，总会被指责缺心少肺、没心眼儿、没眼力见儿、看不出来眉眼高低等等。不过在我成长一段时间之后，发现这件事情其实很简单，也没有什么大的问题。如果你愿意的话，可以找我聊聊，倾诉一下你遇到的事情，希望能够帮到你。我是树洞小太阳，欢迎你来找我玩❤'},\n",
       "  {'label': {'knowledge': False, 'negative': False, 'question': False},\n",
       "   'sender': 'audience',\n",
       "   'time': '11:15:17',\n",
       "   'type': 'textMessage',\n",
       "   'value': '好惨'},\n",
       "  {'label': {'knowledge': False, 'negative': False, 'question': False},\n",
       "   'sender': 'audience',\n",
       "   'time': '11:15:35',\n",
       "   'type': 'textMessage',\n",
       "   'value': '原生家庭也这么对你吗'}],\n",
       " 'date': '2020-03-02 11:01:08',\n",
       " 'label': {'s1': '1.13', 's2': '2.7', 's3': '3.4'},\n",
       " 'owner': '匿名',\n",
       " 'title': '女 听过别人最多的议论就是干啥啥不行不长心眼没有脑子'}"
      ]
     },
     "execution_count": 95,
     "metadata": {},
     "output_type": "execute_result"
    }
   ],
   "source": [
    "# 数据集包含20000个样本\n",
    "# 每个样本即为一个帖子，内含若干跟帖和相关信息\n",
    "data[0]  # 展示一条数据"
   ]
  },
  {
   "cell_type": "code",
   "execution_count": 37,
   "id": "29785f37",
   "metadata": {},
   "outputs": [
    {
     "name": "stdout",
     "output_type": "stream",
     "text": [
      "<class 'dict'>\n"
     ]
    },
    {
     "data": {
      "text/plain": [
       "dict_keys(['chats', 'date', 'label', 'owner', 'title'])"
      ]
     },
     "execution_count": 37,
     "metadata": {},
     "output_type": "execute_result"
    }
   ],
   "source": [
    "# 每个帖子是一个字典对象，包含对话（跟帖）、发帖人、标题、hash码、心理状态标签（label）五个属性\n",
    "# label标签是重要属性\n",
    "print(type(data[0]))\n",
    "data[0].keys()"
   ]
  },
  {
   "cell_type": "code",
   "execution_count": 38,
   "id": "2219b447",
   "metadata": {},
   "outputs": [
    {
     "name": "stdout",
     "output_type": "stream",
     "text": [
      "<class 'list'>\n"
     ]
    },
    {
     "data": {
      "text/plain": [
       "{'label': {'knowledge': False, 'negative': False, 'question': True},\n",
       " 'sender': 'audience',\n",
       " 'time': '11:02:45',\n",
       " 'type': 'textMessage',\n",
       " 'value': '这样的议论是针对谁呢？'}"
      ]
     },
     "execution_count": 38,
     "metadata": {},
     "output_type": "execute_result"
    }
   ],
   "source": [
    "# chats字段是一个列表，包含若干跟帖\n",
    "print(type(data[0][\"chats\"]))\n",
    "\n",
    "# 跟帖的结构是字典对象，包含跟帖时间、内容、发送者（是楼主还是其他用户）、内容类型（文本还是..）、标签（是否为问句，是否知识，是否为消极消息）\n",
    "data[0][\"chats\"][0]"
   ]
  },
  {
   "cell_type": "code",
   "execution_count": 39,
   "id": "143edaa1",
   "metadata": {},
   "outputs": [
    {
     "data": {
      "text/plain": [
       "{'textMessage'}"
      ]
     },
     "execution_count": 39,
     "metadata": {},
     "output_type": "execute_result"
    }
   ],
   "source": [
    "# 文本类型是唯一的回帖类型\n",
    "content_types = set([follow[\"type\"] for lt in data for follow in lt[\"chats\"] ])\n",
    "content_types"
   ]
  },
  {
   "cell_type": "code",
   "execution_count": 40,
   "id": "88de4cc6",
   "metadata": {},
   "outputs": [
    {
     "data": {
      "text/plain": [
       "{('label', 'sender', 'time', 'type', 'value')}"
      ]
     },
     "execution_count": 40,
     "metadata": {},
     "output_type": "execute_result"
    }
   ],
   "source": [
    "data_fields = set([tuple(chat.keys()) for post in data for chat in post[\"chats\"]])\n",
    "data_fields"
   ]
  },
  {
   "cell_type": "markdown",
   "id": "4d75c69a",
   "metadata": {},
   "source": [
    "# 二、数据集描述性数据分析"
   ]
  },
  {
   "cell_type": "code",
   "execution_count": 41,
   "id": "fc4901c7",
   "metadata": {},
   "outputs": [
    {
     "name": "stdout",
     "output_type": "stream",
     "text": [
      "------------------\n",
      "('s1', '1.13')\n",
      "('s2', '2.7')\n",
      "('s3', '3.4')\n",
      "------------------\n",
      "('s1', '1.16')\n",
      "('s2', '2.7')\n",
      "('s3', '3.4')\n"
     ]
    }
   ],
   "source": [
    "# 心理状态标签\n",
    "for post in data[:2]:\n",
    "    print(\"------------------\")\n",
    "    for item in post[\"label\"].items():\n",
    "        print(item)"
   ]
  },
  {
   "cell_type": "markdown",
   "id": "cf2c05c9",
   "metadata": {},
   "source": [
    "# 三、文本预处理"
   ]
  },
  {
   "cell_type": "code",
   "execution_count": 42,
   "id": "a46cff4f",
   "metadata": {},
   "outputs": [],
   "source": [
    "import jieba\n",
    "from gensim.models import Word2Vec\n",
    "from gensim.models.word2vec import LineSentence"
   ]
  },
  {
   "cell_type": "code",
   "execution_count": 43,
   "id": "6e178f4d",
   "metadata": {},
   "outputs": [
    {
     "data": {
      "text/plain": [
       "2315"
      ]
     },
     "execution_count": 43,
     "metadata": {},
     "output_type": "execute_result"
    }
   ],
   "source": [
    "stop_word_path = \"stop_words.txt\"\n",
    "# 读取停用词\n",
    "stopwords = [line.strip() for line in open(stop_word_path, 'r', encoding='utf-8').readlines()]\n",
    "\n",
    "stopwords += [\" \", \"，\", \"。\"]\n",
    "\n",
    "len(stopwords)"
   ]
  },
  {
   "cell_type": "code",
   "execution_count": 44,
   "id": "b11f8032",
   "metadata": {},
   "outputs": [],
   "source": [
    "#  将每个帖子中的文本分离出来\n",
    "lines = [[post[\"title\"]] + [chat[\"value\"] for chat in post[\"chats\"]] for post in data]"
   ]
  },
  {
   "cell_type": "code",
   "execution_count": 45,
   "id": "399a8c08",
   "metadata": {},
   "outputs": [
    {
     "data": {
      "text/plain": [
       "['女 听过别人最多的议论就是干啥啥不行不长心眼没有脑子',\n",
       " '这样的议论是针对谁呢？',\n",
       " '我也是一个从小被这样训到大的女生哦，总会被指责缺心少肺、没心眼儿、没眼力见儿、看不出来眉眼高低等等。不过在我成长一段时间之后，发现这件事情其实很简单，也没有什么大的问题。如果你愿意的话，可以找我聊聊，倾诉一下你遇到的事情，希望能够帮到你。我是树洞小太阳，欢迎你来找我玩❤',\n",
       " '好惨',\n",
       " '原生家庭也这么对你吗']"
      ]
     },
     "execution_count": 45,
     "metadata": {},
     "output_type": "execute_result"
    }
   ],
   "source": [
    "lines[0]"
   ]
  },
  {
   "cell_type": "code",
   "execution_count": 46,
   "id": "5158b7d7",
   "metadata": {},
   "outputs": [],
   "source": [
    "import jieba\n",
    "from functools import reduce\n",
    "from tqdm import tqdm"
   ]
  },
  {
   "cell_type": "code",
   "execution_count": 47,
   "id": "07a4d11a",
   "metadata": {},
   "outputs": [
    {
     "name": "stderr",
     "output_type": "stream",
     "text": [
      "100%|███████████████████████████████████████████████████████████████████████████| 20000/20000 [01:18<00:00, 256.33it/s]\n"
     ]
    }
   ],
   "source": [
    "# 分词\n",
    "x = []\n",
    "for cluster in tqdm(lines):\n",
    "    x_line = []\n",
    "    for line in cluster:\n",
    "        tmp = [char for char in jieba.lcut(line) if char not in stopwords]\n",
    "        x_line.append(tmp)\n",
    "    x.append(reduce(lambda a, b: a+b, x_line))"
   ]
  },
  {
   "cell_type": "code",
   "execution_count": 48,
   "id": "f150a92c",
   "metadata": {},
   "outputs": [
    {
     "data": {
      "text/plain": [
       "['女',\n",
       " '听过',\n",
       " '最多',\n",
       " '议论',\n",
       " '干',\n",
       " '不行',\n",
       " '长',\n",
       " '心眼',\n",
       " '脑子',\n",
       " '议论',\n",
       " '训到',\n",
       " '女生',\n",
       " '总会',\n",
       " '指责',\n",
       " '缺心少肺',\n",
       " '没',\n",
       " '心眼儿',\n",
       " '没',\n",
       " '眼力',\n",
       " '见儿',\n",
       " '看不出来',\n",
       " '眉眼高低',\n",
       " '成长',\n",
       " '一段时间',\n",
       " '发现',\n",
       " '这件',\n",
       " '事情',\n",
       " '简单',\n",
       " '找',\n",
       " '聊聊',\n",
       " '倾诉',\n",
       " '事情',\n",
       " '希望',\n",
       " '帮到',\n",
       " '树洞',\n",
       " '太阳',\n",
       " '找',\n",
       " '玩',\n",
       " '❤',\n",
       " '好惨',\n",
       " '原生',\n",
       " '家庭']"
      ]
     },
     "execution_count": 48,
     "metadata": {},
     "output_type": "execute_result"
    }
   ],
   "source": [
    "x[0]"
   ]
  },
  {
   "cell_type": "code",
   "execution_count": 49,
   "id": "7ce0e197",
   "metadata": {},
   "outputs": [
    {
     "name": "stderr",
     "output_type": "stream",
     "text": [
      "100%|████████████████████████████████████████████████████████████████████████| 20000/20000 [00:00<00:00, 417507.78it/s]\n"
     ]
    }
   ],
   "source": [
    "# 预测目标y（心理状态标签）\n",
    "y_s1_raw = []\n",
    "y_s2_raw = []\n",
    "y_s3_raw = []\n",
    "\n",
    "for post in tqdm(data):\n",
    "    cluster = {item[0]: item[1] for item in post[\"label\"].items()} \n",
    "    y_s1_raw.append(cluster[\"s1\"])\n",
    "    y_s2_raw.append(cluster[\"s2\"])\n",
    "    y_s3_raw.append(cluster[\"s3\"])"
   ]
  },
  {
   "cell_type": "code",
   "execution_count": 50,
   "id": "dc535c8f",
   "metadata": {},
   "outputs": [],
   "source": [
    "y_map = {}\n",
    "for label in y_s1_raw + y_s2_raw + y_s3_raw:\n",
    "    if label not in y_map:\n",
    "        y_map[label] = len(y_map)"
   ]
  },
  {
   "cell_type": "code",
   "execution_count": 51,
   "id": "b6525fde",
   "metadata": {},
   "outputs": [
    {
     "data": {
      "text/plain": [
       "{'1.13': 0,\n",
       " '1.16': 1,\n",
       " '1.6': 2,\n",
       " '1.9': 3,\n",
       " '1.14': 4,\n",
       " '1.7': 5,\n",
       " '1.12': 6,\n",
       " '1.3': 7,\n",
       " '1.15': 8,\n",
       " '1.8': 9,\n",
       " '1.2': 10,\n",
       " '1.1': 11,\n",
       " '1.10': 12,\n",
       " '1.11': 13,\n",
       " '1.4': 14,\n",
       " '1.5': 15,\n",
       " '1.18': 16,\n",
       " '1.17': 17,\n",
       " '1.19': 18,\n",
       " '2.7': 19,\n",
       " '2.1': 20,\n",
       " '2.2': 21,\n",
       " '2.8': 22,\n",
       " '2.3': 23,\n",
       " '2.4': 24,\n",
       " '2.5': 25,\n",
       " '2.6': 26,\n",
       " '3.4': 27,\n",
       " '3.2': 28,\n",
       " '3.3': 29,\n",
       " '3.6': 30,\n",
       " '3.5': 31}"
      ]
     },
     "execution_count": 51,
     "metadata": {},
     "output_type": "execute_result"
    }
   ],
   "source": [
    "y_map"
   ]
  },
  {
   "cell_type": "code",
   "execution_count": 52,
   "id": "7e2c83d8",
   "metadata": {},
   "outputs": [],
   "source": [
    "y_s1 = [y_map[label] for label in y_s1_raw]\n",
    "y_s2 = [y_map[label] for label in y_s2_raw]\n",
    "y_s3 = [y_map[label] for label in y_s3_raw]"
   ]
  },
  {
   "cell_type": "markdown",
   "id": "ff5f5e70",
   "metadata": {},
   "source": [
    "# 获得词向量(s1)"
   ]
  },
  {
   "cell_type": "code",
   "execution_count": 53,
   "id": "1100103b",
   "metadata": {},
   "outputs": [],
   "source": [
    "import gensim\n",
    "from sklearn.model_selection import train_test_split"
   ]
  },
  {
   "cell_type": "code",
   "execution_count": 54,
   "id": "2686488c",
   "metadata": {},
   "outputs": [],
   "source": [
    "# 分割测试集和训练集\n",
    "x_train, x_test, y_train, y_test \\\n",
    "        = train_test_split(x, y_s1, test_size=0.3)"
   ]
  },
  {
   "cell_type": "code",
   "execution_count": 55,
   "id": "a8a36c3a",
   "metadata": {},
   "outputs": [],
   "source": [
    "# 获得词嵌入\n",
    "word2vec_model = gensim.models.Word2Vec(x_train)"
   ]
  },
  {
   "cell_type": "code",
   "execution_count": 57,
   "id": "0d9244ce",
   "metadata": {},
   "outputs": [],
   "source": [
    "# 文档向量计算方法：词向量的加权平均\n",
    "def get_doc_vec(x, word2vec_model):\n",
    "    doc_vec_s1 = []\n",
    "    zero_count = 0\n",
    "    for doc in tqdm(x):\n",
    "        tmp = [word2vec_model[word] for word in doc if word in word2vec_model]\n",
    "        if len(tmp) == 0:\n",
    "            avg = np.zeros(len(doc_vec_s1[0]))\n",
    "            zero_count += 1\n",
    "        else:\n",
    "            avg = [item/len(tmp) for item in reduce(lambda lt1, lt2: [lt1[index]+lt2[index] for index in range(len(lt1))], tmp)]\n",
    "        doc_vec_s1.append(avg)\n",
    "    print(\"零向量占比\", zero_count/len(doc_vec_s1))\n",
    "    return doc_vec_s1"
   ]
  },
  {
   "cell_type": "code",
   "execution_count": 58,
   "id": "ad1c6160",
   "metadata": {},
   "outputs": [
    {
     "name": "stderr",
     "output_type": "stream",
     "text": [
      "  0%|                                                                                        | 0/14000 [00:00<?, ?it/s]C:\\Users\\lizhiyou\\AppData\\Local\\Temp\\ipykernel_916\\4111443500.py:6: DeprecationWarning: Call to deprecated `__contains__` (Method will be removed in 4.0.0, use self.wv.__contains__() instead).\n",
      "  tmp = [word2vec_model[word] for word in doc if word in word2vec_model]\n",
      "C:\\Users\\lizhiyou\\AppData\\Local\\Temp\\ipykernel_916\\4111443500.py:6: DeprecationWarning: Call to deprecated `__getitem__` (Method will be removed in 4.0.0, use self.wv.__getitem__() instead).\n",
      "  tmp = [word2vec_model[word] for word in doc if word in word2vec_model]\n",
      "100%|███████████████████████████████████████████████████████████████████████████| 14000/14000 [00:29<00:00, 467.35it/s]"
     ]
    },
    {
     "name": "stdout",
     "output_type": "stream",
     "text": [
      "零向量占比 7.142857142857143e-05\n"
     ]
    },
    {
     "name": "stderr",
     "output_type": "stream",
     "text": [
      "\n"
     ]
    }
   ],
   "source": [
    "doc_vec_s1 = get_doc_vec(x_train, word2vec_model)"
   ]
  },
  {
   "cell_type": "code",
   "execution_count": 59,
   "id": "c5fcdea7",
   "metadata": {},
   "outputs": [
    {
     "data": {
      "text/plain": [
       "14000"
      ]
     },
     "execution_count": 59,
     "metadata": {},
     "output_type": "execute_result"
    }
   ],
   "source": [
    "len(doc_vec_s1)"
   ]
  },
  {
   "cell_type": "code",
   "execution_count": 60,
   "id": "97fbe8d7",
   "metadata": {},
   "outputs": [
    {
     "data": {
      "text/plain": [
       "100"
      ]
     },
     "execution_count": 60,
     "metadata": {},
     "output_type": "execute_result"
    }
   ],
   "source": [
    "len(doc_vec_s1[0])"
   ]
  },
  {
   "cell_type": "markdown",
   "id": "29c3906b",
   "metadata": {},
   "source": [
    "# 训练模型（s1）"
   ]
  },
  {
   "cell_type": "code",
   "execution_count": 61,
   "id": "e8cc8d71",
   "metadata": {},
   "outputs": [],
   "source": [
    "from sklearn.svm import SVC  # 支持向量机分类器"
   ]
  },
  {
   "cell_type": "code",
   "execution_count": 62,
   "id": "c0d2b033",
   "metadata": {},
   "outputs": [],
   "source": [
    "svm_model = SVC()"
   ]
  },
  {
   "cell_type": "code",
   "execution_count": 63,
   "id": "9d60bce0",
   "metadata": {},
   "outputs": [
    {
     "data": {
      "text/html": [
       "<style>#sk-container-id-1 {color: black;}#sk-container-id-1 pre{padding: 0;}#sk-container-id-1 div.sk-toggleable {background-color: white;}#sk-container-id-1 label.sk-toggleable__label {cursor: pointer;display: block;width: 100%;margin-bottom: 0;padding: 0.3em;box-sizing: border-box;text-align: center;}#sk-container-id-1 label.sk-toggleable__label-arrow:before {content: \"▸\";float: left;margin-right: 0.25em;color: #696969;}#sk-container-id-1 label.sk-toggleable__label-arrow:hover:before {color: black;}#sk-container-id-1 div.sk-estimator:hover label.sk-toggleable__label-arrow:before {color: black;}#sk-container-id-1 div.sk-toggleable__content {max-height: 0;max-width: 0;overflow: hidden;text-align: left;background-color: #f0f8ff;}#sk-container-id-1 div.sk-toggleable__content pre {margin: 0.2em;color: black;border-radius: 0.25em;background-color: #f0f8ff;}#sk-container-id-1 input.sk-toggleable__control:checked~div.sk-toggleable__content {max-height: 200px;max-width: 100%;overflow: auto;}#sk-container-id-1 input.sk-toggleable__control:checked~label.sk-toggleable__label-arrow:before {content: \"▾\";}#sk-container-id-1 div.sk-estimator input.sk-toggleable__control:checked~label.sk-toggleable__label {background-color: #d4ebff;}#sk-container-id-1 div.sk-label input.sk-toggleable__control:checked~label.sk-toggleable__label {background-color: #d4ebff;}#sk-container-id-1 input.sk-hidden--visually {border: 0;clip: rect(1px 1px 1px 1px);clip: rect(1px, 1px, 1px, 1px);height: 1px;margin: -1px;overflow: hidden;padding: 0;position: absolute;width: 1px;}#sk-container-id-1 div.sk-estimator {font-family: monospace;background-color: #f0f8ff;border: 1px dotted black;border-radius: 0.25em;box-sizing: border-box;margin-bottom: 0.5em;}#sk-container-id-1 div.sk-estimator:hover {background-color: #d4ebff;}#sk-container-id-1 div.sk-parallel-item::after {content: \"\";width: 100%;border-bottom: 1px solid gray;flex-grow: 1;}#sk-container-id-1 div.sk-label:hover label.sk-toggleable__label {background-color: #d4ebff;}#sk-container-id-1 div.sk-serial::before {content: \"\";position: absolute;border-left: 1px solid gray;box-sizing: border-box;top: 0;bottom: 0;left: 50%;z-index: 0;}#sk-container-id-1 div.sk-serial {display: flex;flex-direction: column;align-items: center;background-color: white;padding-right: 0.2em;padding-left: 0.2em;position: relative;}#sk-container-id-1 div.sk-item {position: relative;z-index: 1;}#sk-container-id-1 div.sk-parallel {display: flex;align-items: stretch;justify-content: center;background-color: white;position: relative;}#sk-container-id-1 div.sk-item::before, #sk-container-id-1 div.sk-parallel-item::before {content: \"\";position: absolute;border-left: 1px solid gray;box-sizing: border-box;top: 0;bottom: 0;left: 50%;z-index: -1;}#sk-container-id-1 div.sk-parallel-item {display: flex;flex-direction: column;z-index: 1;position: relative;background-color: white;}#sk-container-id-1 div.sk-parallel-item:first-child::after {align-self: flex-end;width: 50%;}#sk-container-id-1 div.sk-parallel-item:last-child::after {align-self: flex-start;width: 50%;}#sk-container-id-1 div.sk-parallel-item:only-child::after {width: 0;}#sk-container-id-1 div.sk-dashed-wrapped {border: 1px dashed gray;margin: 0 0.4em 0.5em 0.4em;box-sizing: border-box;padding-bottom: 0.4em;background-color: white;}#sk-container-id-1 div.sk-label label {font-family: monospace;font-weight: bold;display: inline-block;line-height: 1.2em;}#sk-container-id-1 div.sk-label-container {text-align: center;}#sk-container-id-1 div.sk-container {/* jupyter's `normalize.less` sets `[hidden] { display: none; }` but bootstrap.min.css set `[hidden] { display: none !important; }` so we also need the `!important` here to be able to override the default hidden behavior on the sphinx rendered scikit-learn.org. See: https://github.com/scikit-learn/scikit-learn/issues/21755 */display: inline-block !important;position: relative;}#sk-container-id-1 div.sk-text-repr-fallback {display: none;}</style><div id=\"sk-container-id-1\" class=\"sk-top-container\"><div class=\"sk-text-repr-fallback\"><pre>SVC()</pre><b>In a Jupyter environment, please rerun this cell to show the HTML representation or trust the notebook. <br />On GitHub, the HTML representation is unable to render, please try loading this page with nbviewer.org.</b></div><div class=\"sk-container\" hidden><div class=\"sk-item\"><div class=\"sk-estimator sk-toggleable\"><input class=\"sk-toggleable__control sk-hidden--visually\" id=\"sk-estimator-id-1\" type=\"checkbox\" checked><label for=\"sk-estimator-id-1\" class=\"sk-toggleable__label sk-toggleable__label-arrow\">SVC</label><div class=\"sk-toggleable__content\"><pre>SVC()</pre></div></div></div></div></div>"
      ],
      "text/plain": [
       "SVC()"
      ]
     },
     "execution_count": 63,
     "metadata": {},
     "output_type": "execute_result"
    }
   ],
   "source": [
    "svm_model.fit(doc_vec_s1, y_train)"
   ]
  },
  {
   "cell_type": "code",
   "execution_count": 64,
   "id": "d821b381",
   "metadata": {},
   "outputs": [
    {
     "name": "stderr",
     "output_type": "stream",
     "text": [
      "  0%|                                                                                         | 0/6000 [00:00<?, ?it/s]C:\\Users\\lizhiyou\\AppData\\Local\\Temp\\ipykernel_916\\4111443500.py:6: DeprecationWarning: Call to deprecated `__contains__` (Method will be removed in 4.0.0, use self.wv.__contains__() instead).\n",
      "  tmp = [word2vec_model[word] for word in doc if word in word2vec_model]\n",
      "C:\\Users\\lizhiyou\\AppData\\Local\\Temp\\ipykernel_916\\4111443500.py:6: DeprecationWarning: Call to deprecated `__getitem__` (Method will be removed in 4.0.0, use self.wv.__getitem__() instead).\n",
      "  tmp = [word2vec_model[word] for word in doc if word in word2vec_model]\n",
      "100%|█████████████████████████████████████████████████████████████████████████████| 6000/6000 [00:09<00:00, 613.25it/s]\n"
     ]
    },
    {
     "name": "stdout",
     "output_type": "stream",
     "text": [
      "零向量占比 0.0\n"
     ]
    }
   ],
   "source": [
    "predicted = svm_model.predict(get_doc_vec(x_test, word2vec_model))"
   ]
  },
  {
   "cell_type": "code",
   "execution_count": 65,
   "id": "1aca211e",
   "metadata": {},
   "outputs": [
    {
     "name": "stdout",
     "output_type": "stream",
     "text": [
      "              precision    recall  f1-score   support\n",
      "\n",
      "           0       0.53      0.07      0.12       146\n",
      "           1       0.57      0.82      0.67      2133\n",
      "           2       0.68      0.31      0.42       123\n",
      "           3       0.61      0.84      0.71      1524\n",
      "           4       0.00      0.00      0.00        55\n",
      "           5       0.76      0.06      0.11       260\n",
      "           6       0.00      0.00      0.00       131\n",
      "           7       0.50      0.46      0.48       589\n",
      "           8       0.00      0.00      0.00        65\n",
      "           9       0.62      0.05      0.10       249\n",
      "          10       0.56      0.17      0.27        80\n",
      "          11       0.62      0.49      0.55       177\n",
      "          12       0.22      0.02      0.03       131\n",
      "          13       1.00      0.00      0.01       223\n",
      "          14       0.00      0.00      0.00        32\n",
      "          15       0.00      0.00      0.00        12\n",
      "          16       0.00      0.00      0.00        27\n",
      "          17       0.00      0.00      0.00        16\n",
      "          18       0.00      0.00      0.00        27\n",
      "\n",
      "    accuracy                           0.58      6000\n",
      "   macro avg       0.35      0.17      0.18      6000\n",
      "weighted avg       0.56      0.58      0.51      6000\n",
      "\n"
     ]
    },
    {
     "name": "stderr",
     "output_type": "stream",
     "text": [
      "D:\\anaconda\\anaconda3\\lib\\site-packages\\sklearn\\metrics\\_classification.py:1469: UndefinedMetricWarning: Precision and F-score are ill-defined and being set to 0.0 in labels with no predicted samples. Use `zero_division` parameter to control this behavior.\n",
      "  _warn_prf(average, modifier, msg_start, len(result))\n",
      "D:\\anaconda\\anaconda3\\lib\\site-packages\\sklearn\\metrics\\_classification.py:1469: UndefinedMetricWarning: Precision and F-score are ill-defined and being set to 0.0 in labels with no predicted samples. Use `zero_division` parameter to control this behavior.\n",
      "  _warn_prf(average, modifier, msg_start, len(result))\n",
      "D:\\anaconda\\anaconda3\\lib\\site-packages\\sklearn\\metrics\\_classification.py:1469: UndefinedMetricWarning: Precision and F-score are ill-defined and being set to 0.0 in labels with no predicted samples. Use `zero_division` parameter to control this behavior.\n",
      "  _warn_prf(average, modifier, msg_start, len(result))\n"
     ]
    }
   ],
   "source": [
    "from sklearn import metrics  # 模型评价工具\n",
    "print(metrics.classification_report(y_test, predicted))"
   ]
  },
  {
   "cell_type": "code",
   "execution_count": 66,
   "id": "7499e752",
   "metadata": {},
   "outputs": [],
   "source": [
    "# 换模型\n",
    "from sklearn.ensemble import RandomForestClassifier\n",
    "rf = RandomForestClassifier()"
   ]
  },
  {
   "cell_type": "code",
   "execution_count": 67,
   "id": "047cc8fd",
   "metadata": {},
   "outputs": [
    {
     "name": "stderr",
     "output_type": "stream",
     "text": [
      "  0%|                                                                                         | 0/6000 [00:00<?, ?it/s]C:\\Users\\lizhiyou\\AppData\\Local\\Temp\\ipykernel_916\\4111443500.py:6: DeprecationWarning: Call to deprecated `__contains__` (Method will be removed in 4.0.0, use self.wv.__contains__() instead).\n",
      "  tmp = [word2vec_model[word] for word in doc if word in word2vec_model]\n",
      "C:\\Users\\lizhiyou\\AppData\\Local\\Temp\\ipykernel_916\\4111443500.py:6: DeprecationWarning: Call to deprecated `__getitem__` (Method will be removed in 4.0.0, use self.wv.__getitem__() instead).\n",
      "  tmp = [word2vec_model[word] for word in doc if word in word2vec_model]\n",
      "100%|█████████████████████████████████████████████████████████████████████████████| 6000/6000 [00:09<00:00, 648.52it/s]\n"
     ]
    },
    {
     "name": "stdout",
     "output_type": "stream",
     "text": [
      "零向量占比 0.0\n",
      "              precision    recall  f1-score   support\n",
      "\n",
      "           0       0.42      0.13      0.20       146\n",
      "           1       0.57      0.82      0.67      2133\n",
      "           2       0.67      0.29      0.41       123\n",
      "           3       0.60      0.81      0.69      1524\n",
      "           4       0.00      0.00      0.00        55\n",
      "           5       0.53      0.10      0.17       260\n",
      "           6       0.00      0.00      0.00       131\n",
      "           7       0.51      0.41      0.46       589\n",
      "           8       0.00      0.00      0.00        65\n",
      "           9       0.47      0.12      0.19       249\n",
      "          10       0.76      0.16      0.27        80\n",
      "          11       0.58      0.39      0.47       177\n",
      "          12       0.43      0.02      0.04       131\n",
      "          13       0.69      0.08      0.14       223\n",
      "          14       0.00      0.00      0.00        32\n",
      "          15       0.00      0.00      0.00        12\n",
      "          16       0.00      0.00      0.00        27\n",
      "          17       0.00      0.00      0.00        16\n",
      "          18       0.00      0.00      0.00        27\n",
      "\n",
      "    accuracy                           0.57      6000\n",
      "   macro avg       0.33      0.18      0.19      6000\n",
      "weighted avg       0.53      0.57      0.51      6000\n",
      "\n"
     ]
    },
    {
     "name": "stderr",
     "output_type": "stream",
     "text": [
      "D:\\anaconda\\anaconda3\\lib\\site-packages\\sklearn\\metrics\\_classification.py:1469: UndefinedMetricWarning: Precision and F-score are ill-defined and being set to 0.0 in labels with no predicted samples. Use `zero_division` parameter to control this behavior.\n",
      "  _warn_prf(average, modifier, msg_start, len(result))\n",
      "D:\\anaconda\\anaconda3\\lib\\site-packages\\sklearn\\metrics\\_classification.py:1469: UndefinedMetricWarning: Precision and F-score are ill-defined and being set to 0.0 in labels with no predicted samples. Use `zero_division` parameter to control this behavior.\n",
      "  _warn_prf(average, modifier, msg_start, len(result))\n",
      "D:\\anaconda\\anaconda3\\lib\\site-packages\\sklearn\\metrics\\_classification.py:1469: UndefinedMetricWarning: Precision and F-score are ill-defined and being set to 0.0 in labels with no predicted samples. Use `zero_division` parameter to control this behavior.\n",
      "  _warn_prf(average, modifier, msg_start, len(result))\n"
     ]
    }
   ],
   "source": [
    "rf.fit(doc_vec_s1, y_train)\n",
    "predicted = rf.predict(get_doc_vec(x_test, word2vec_model))\n",
    "print(metrics.classification_report(y_test, predicted))"
   ]
  },
  {
   "cell_type": "markdown",
   "id": "95cf2160",
   "metadata": {},
   "source": [
    "# 训练模型（s2）"
   ]
  },
  {
   "cell_type": "code",
   "execution_count": 68,
   "id": "0f9603dc",
   "metadata": {},
   "outputs": [],
   "source": [
    "# 分割测试集和训练集\n",
    "x_train, x_test, y_train, y_test \\\n",
    "        = train_test_split(x, y_s2, test_size=0.3)"
   ]
  },
  {
   "cell_type": "code",
   "execution_count": 69,
   "id": "10ddcc47",
   "metadata": {},
   "outputs": [
    {
     "name": "stderr",
     "output_type": "stream",
     "text": [
      "  0%|                                                                                        | 0/14000 [00:00<?, ?it/s]C:\\Users\\lizhiyou\\AppData\\Local\\Temp\\ipykernel_916\\4111443500.py:6: DeprecationWarning: Call to deprecated `__contains__` (Method will be removed in 4.0.0, use self.wv.__contains__() instead).\n",
      "  tmp = [word2vec_model[word] for word in doc if word in word2vec_model]\n",
      "C:\\Users\\lizhiyou\\AppData\\Local\\Temp\\ipykernel_916\\4111443500.py:6: DeprecationWarning: Call to deprecated `__getitem__` (Method will be removed in 4.0.0, use self.wv.__getitem__() instead).\n",
      "  tmp = [word2vec_model[word] for word in doc if word in word2vec_model]\n",
      "100%|███████████████████████████████████████████████████████████████████████████| 14000/14000 [00:21<00:00, 659.05it/s]\n"
     ]
    },
    {
     "name": "stdout",
     "output_type": "stream",
     "text": [
      "零向量占比 0.0\n"
     ]
    },
    {
     "name": "stderr",
     "output_type": "stream",
     "text": [
      "  0%|                                                                                         | 0/6000 [00:00<?, ?it/s]C:\\Users\\lizhiyou\\AppData\\Local\\Temp\\ipykernel_916\\4111443500.py:6: DeprecationWarning: Call to deprecated `__contains__` (Method will be removed in 4.0.0, use self.wv.__contains__() instead).\n",
      "  tmp = [word2vec_model[word] for word in doc if word in word2vec_model]\n",
      "C:\\Users\\lizhiyou\\AppData\\Local\\Temp\\ipykernel_916\\4111443500.py:6: DeprecationWarning: Call to deprecated `__getitem__` (Method will be removed in 4.0.0, use self.wv.__getitem__() instead).\n",
      "  tmp = [word2vec_model[word] for word in doc if word in word2vec_model]\n",
      "100%|█████████████████████████████████████████████████████████████████████████████| 6000/6000 [00:09<00:00, 616.59it/s]\n"
     ]
    },
    {
     "name": "stdout",
     "output_type": "stream",
     "text": [
      "零向量占比 0.00016666666666666666\n"
     ]
    }
   ],
   "source": [
    "doc_vec_s2 = get_doc_vec(x_train, word2vec_model)\n",
    "svm_model = SVC()\n",
    "svm_model.fit(doc_vec_s2, y_train)\n",
    "predicted = svm_model.predict(get_doc_vec(x_test, word2vec_model))"
   ]
  },
  {
   "cell_type": "code",
   "execution_count": 70,
   "id": "8db88fb3",
   "metadata": {},
   "outputs": [
    {
     "name": "stdout",
     "output_type": "stream",
     "text": [
      "              precision    recall  f1-score   support\n",
      "\n",
      "          19       0.89      1.00      0.94      5344\n",
      "          20       0.00      0.00      0.00       283\n",
      "          21       0.00      0.00      0.00       199\n",
      "          22       0.00      0.00      0.00        51\n",
      "          23       0.00      0.00      0.00        32\n",
      "          24       0.00      0.00      0.00        72\n",
      "          25       0.00      0.00      0.00        13\n",
      "          26       0.00      0.00      0.00         6\n",
      "\n",
      "    accuracy                           0.89      6000\n",
      "   macro avg       0.11      0.12      0.12      6000\n",
      "weighted avg       0.79      0.89      0.84      6000\n",
      "\n"
     ]
    },
    {
     "name": "stderr",
     "output_type": "stream",
     "text": [
      "D:\\anaconda\\anaconda3\\lib\\site-packages\\sklearn\\metrics\\_classification.py:1469: UndefinedMetricWarning: Precision and F-score are ill-defined and being set to 0.0 in labels with no predicted samples. Use `zero_division` parameter to control this behavior.\n",
      "  _warn_prf(average, modifier, msg_start, len(result))\n",
      "D:\\anaconda\\anaconda3\\lib\\site-packages\\sklearn\\metrics\\_classification.py:1469: UndefinedMetricWarning: Precision and F-score are ill-defined and being set to 0.0 in labels with no predicted samples. Use `zero_division` parameter to control this behavior.\n",
      "  _warn_prf(average, modifier, msg_start, len(result))\n",
      "D:\\anaconda\\anaconda3\\lib\\site-packages\\sklearn\\metrics\\_classification.py:1469: UndefinedMetricWarning: Precision and F-score are ill-defined and being set to 0.0 in labels with no predicted samples. Use `zero_division` parameter to control this behavior.\n",
      "  _warn_prf(average, modifier, msg_start, len(result))\n"
     ]
    }
   ],
   "source": [
    "print(metrics.classification_report(y_test, predicted))"
   ]
  },
  {
   "cell_type": "markdown",
   "id": "69455f9d",
   "metadata": {},
   "source": [
    "# 训练模型（s3）¶"
   ]
  },
  {
   "cell_type": "code",
   "execution_count": 71,
   "id": "88055ffc",
   "metadata": {},
   "outputs": [],
   "source": [
    "# 分割测试集和训练集\n",
    "x_train, x_test, y_train, y_test \\\n",
    "        = train_test_split(x, y_s3, test_size=0.3)"
   ]
  },
  {
   "cell_type": "code",
   "execution_count": 72,
   "id": "60b991e6",
   "metadata": {},
   "outputs": [
    {
     "name": "stderr",
     "output_type": "stream",
     "text": [
      "  0%|                                                                                        | 0/14000 [00:00<?, ?it/s]C:\\Users\\lizhiyou\\AppData\\Local\\Temp\\ipykernel_916\\4111443500.py:6: DeprecationWarning: Call to deprecated `__contains__` (Method will be removed in 4.0.0, use self.wv.__contains__() instead).\n",
      "  tmp = [word2vec_model[word] for word in doc if word in word2vec_model]\n",
      "C:\\Users\\lizhiyou\\AppData\\Local\\Temp\\ipykernel_916\\4111443500.py:6: DeprecationWarning: Call to deprecated `__getitem__` (Method will be removed in 4.0.0, use self.wv.__getitem__() instead).\n",
      "  tmp = [word2vec_model[word] for word in doc if word in word2vec_model]\n",
      "100%|███████████████████████████████████████████████████████████████████████████| 14000/14000 [00:22<00:00, 622.86it/s]\n"
     ]
    },
    {
     "name": "stdout",
     "output_type": "stream",
     "text": [
      "零向量占比 7.142857142857143e-05\n"
     ]
    },
    {
     "name": "stderr",
     "output_type": "stream",
     "text": [
      "  0%|                                                                                         | 0/6000 [00:00<?, ?it/s]C:\\Users\\lizhiyou\\AppData\\Local\\Temp\\ipykernel_916\\4111443500.py:6: DeprecationWarning: Call to deprecated `__contains__` (Method will be removed in 4.0.0, use self.wv.__contains__() instead).\n",
      "  tmp = [word2vec_model[word] for word in doc if word in word2vec_model]\n",
      "C:\\Users\\lizhiyou\\AppData\\Local\\Temp\\ipykernel_916\\4111443500.py:6: DeprecationWarning: Call to deprecated `__getitem__` (Method will be removed in 4.0.0, use self.wv.__getitem__() instead).\n",
      "  tmp = [word2vec_model[word] for word in doc if word in word2vec_model]\n",
      "100%|█████████████████████████████████████████████████████████████████████████████| 6000/6000 [00:09<00:00, 620.70it/s]\n"
     ]
    },
    {
     "name": "stdout",
     "output_type": "stream",
     "text": [
      "零向量占比 0.0\n"
     ]
    }
   ],
   "source": [
    "doc_vec_s3 = get_doc_vec(x_train, word2vec_model)\n",
    "svm_model = SVC()\n",
    "svm_model.fit(doc_vec_s3, y_train)\n",
    "predicted = svm_model.predict(get_doc_vec(x_test, word2vec_model))"
   ]
  },
  {
   "cell_type": "code",
   "execution_count": 73,
   "id": "fcb6c021",
   "metadata": {},
   "outputs": [
    {
     "name": "stdout",
     "output_type": "stream",
     "text": [
      "              precision    recall  f1-score   support\n",
      "\n",
      "          27       0.98      1.00      0.99      5879\n",
      "          28       0.00      0.00      0.00        76\n",
      "          29       0.00      0.00      0.00        28\n",
      "          30       0.00      0.00      0.00        16\n",
      "          31       0.00      0.00      0.00         1\n",
      "\n",
      "    accuracy                           0.98      6000\n",
      "   macro avg       0.20      0.20      0.20      6000\n",
      "weighted avg       0.96      0.98      0.97      6000\n",
      "\n"
     ]
    },
    {
     "name": "stderr",
     "output_type": "stream",
     "text": [
      "D:\\anaconda\\anaconda3\\lib\\site-packages\\sklearn\\metrics\\_classification.py:1469: UndefinedMetricWarning: Precision and F-score are ill-defined and being set to 0.0 in labels with no predicted samples. Use `zero_division` parameter to control this behavior.\n",
      "  _warn_prf(average, modifier, msg_start, len(result))\n",
      "D:\\anaconda\\anaconda3\\lib\\site-packages\\sklearn\\metrics\\_classification.py:1469: UndefinedMetricWarning: Precision and F-score are ill-defined and being set to 0.0 in labels with no predicted samples. Use `zero_division` parameter to control this behavior.\n",
      "  _warn_prf(average, modifier, msg_start, len(result))\n",
      "D:\\anaconda\\anaconda3\\lib\\site-packages\\sklearn\\metrics\\_classification.py:1469: UndefinedMetricWarning: Precision and F-score are ill-defined and being set to 0.0 in labels with no predicted samples. Use `zero_division` parameter to control this behavior.\n",
      "  _warn_prf(average, modifier, msg_start, len(result))\n"
     ]
    }
   ],
   "source": [
    "print(metrics.classification_report(y_test, predicted))"
   ]
  },
  {
   "cell_type": "markdown",
   "id": "36277be8",
   "metadata": {},
   "source": [
    "# 转化为二分类来改进"
   ]
  },
  {
   "cell_type": "code",
   "execution_count": 74,
   "id": "e6b1de59",
   "metadata": {},
   "outputs": [
    {
     "name": "stderr",
     "output_type": "stream",
     "text": [
      "<>:1: SyntaxWarning: \"is\" with a literal. Did you mean \"==\"?\n",
      "<>:1: SyntaxWarning: \"is\" with a literal. Did you mean \"==\"?\n",
      "C:\\Users\\lizhiyou\\AppData\\Local\\Temp\\ipykernel_916\\2931193081.py:1: SyntaxWarning: \"is\" with a literal. Did you mean \"==\"?\n",
      "  y_s3_bi_map = [0 if item is 27 else 1 for item in y_s3]\n"
     ]
    }
   ],
   "source": [
    "y_s3_bi_map = [0 if item is 27 else 1 for item in y_s3]"
   ]
  },
  {
   "cell_type": "code",
   "execution_count": 75,
   "id": "1592e2e2",
   "metadata": {},
   "outputs": [],
   "source": [
    "# 分割测试集和训练集\n",
    "x_train, x_test, y_train, y_test \\\n",
    "        = train_test_split(x, y_s3_bi_map, test_size=0.3)"
   ]
  },
  {
   "cell_type": "code",
   "execution_count": 76,
   "id": "99b41155",
   "metadata": {},
   "outputs": [
    {
     "name": "stderr",
     "output_type": "stream",
     "text": [
      "  0%|                                                                                        | 0/14000 [00:00<?, ?it/s]C:\\Users\\lizhiyou\\AppData\\Local\\Temp\\ipykernel_916\\4111443500.py:6: DeprecationWarning: Call to deprecated `__contains__` (Method will be removed in 4.0.0, use self.wv.__contains__() instead).\n",
      "  tmp = [word2vec_model[word] for word in doc if word in word2vec_model]\n",
      "C:\\Users\\lizhiyou\\AppData\\Local\\Temp\\ipykernel_916\\4111443500.py:6: DeprecationWarning: Call to deprecated `__getitem__` (Method will be removed in 4.0.0, use self.wv.__getitem__() instead).\n",
      "  tmp = [word2vec_model[word] for word in doc if word in word2vec_model]\n",
      "100%|███████████████████████████████████████████████████████████████████████████| 14000/14000 [00:23<00:00, 606.81it/s]\n"
     ]
    },
    {
     "name": "stdout",
     "output_type": "stream",
     "text": [
      "零向量占比 0.0\n"
     ]
    },
    {
     "name": "stderr",
     "output_type": "stream",
     "text": [
      "  0%|                                                                                         | 0/6000 [00:00<?, ?it/s]C:\\Users\\lizhiyou\\AppData\\Local\\Temp\\ipykernel_916\\4111443500.py:6: DeprecationWarning: Call to deprecated `__contains__` (Method will be removed in 4.0.0, use self.wv.__contains__() instead).\n",
      "  tmp = [word2vec_model[word] for word in doc if word in word2vec_model]\n",
      "C:\\Users\\lizhiyou\\AppData\\Local\\Temp\\ipykernel_916\\4111443500.py:6: DeprecationWarning: Call to deprecated `__getitem__` (Method will be removed in 4.0.0, use self.wv.__getitem__() instead).\n",
      "  tmp = [word2vec_model[word] for word in doc if word in word2vec_model]\n",
      "100%|█████████████████████████████████████████████████████████████████████████████| 6000/6000 [00:09<00:00, 608.14it/s]\n"
     ]
    },
    {
     "name": "stdout",
     "output_type": "stream",
     "text": [
      "零向量占比 0.00016666666666666666\n"
     ]
    }
   ],
   "source": [
    "doc_vec_s3 = get_doc_vec(x_train, word2vec_model)\n",
    "svm_model = SVC()\n",
    "svm_model.fit(doc_vec_s3, y_train)\n",
    "predicted = svm_model.predict(get_doc_vec(x_test, word2vec_model))"
   ]
  },
  {
   "cell_type": "code",
   "execution_count": 77,
   "id": "76f6479b",
   "metadata": {},
   "outputs": [
    {
     "name": "stdout",
     "output_type": "stream",
     "text": [
      "              precision    recall  f1-score   support\n",
      "\n",
      "           0       0.98      1.00      0.99      5887\n",
      "           1       0.00      0.00      0.00       113\n",
      "\n",
      "    accuracy                           0.98      6000\n",
      "   macro avg       0.49      0.50      0.50      6000\n",
      "weighted avg       0.96      0.98      0.97      6000\n",
      "\n"
     ]
    },
    {
     "name": "stderr",
     "output_type": "stream",
     "text": [
      "D:\\anaconda\\anaconda3\\lib\\site-packages\\sklearn\\metrics\\_classification.py:1469: UndefinedMetricWarning: Precision and F-score are ill-defined and being set to 0.0 in labels with no predicted samples. Use `zero_division` parameter to control this behavior.\n",
      "  _warn_prf(average, modifier, msg_start, len(result))\n",
      "D:\\anaconda\\anaconda3\\lib\\site-packages\\sklearn\\metrics\\_classification.py:1469: UndefinedMetricWarning: Precision and F-score are ill-defined and being set to 0.0 in labels with no predicted samples. Use `zero_division` parameter to control this behavior.\n",
      "  _warn_prf(average, modifier, msg_start, len(result))\n",
      "D:\\anaconda\\anaconda3\\lib\\site-packages\\sklearn\\metrics\\_classification.py:1469: UndefinedMetricWarning: Precision and F-score are ill-defined and being set to 0.0 in labels with no predicted samples. Use `zero_division` parameter to control this behavior.\n",
      "  _warn_prf(average, modifier, msg_start, len(result))\n"
     ]
    }
   ],
   "source": [
    "print(metrics.classification_report(y_test, predicted))"
   ]
  },
  {
   "cell_type": "code",
   "execution_count": 78,
   "id": "6f3f8b6f",
   "metadata": {},
   "outputs": [
    {
     "name": "stderr",
     "output_type": "stream",
     "text": [
      "  0%|                                                                                         | 0/6000 [00:00<?, ?it/s]C:\\Users\\lizhiyou\\AppData\\Local\\Temp\\ipykernel_916\\4111443500.py:6: DeprecationWarning: Call to deprecated `__contains__` (Method will be removed in 4.0.0, use self.wv.__contains__() instead).\n",
      "  tmp = [word2vec_model[word] for word in doc if word in word2vec_model]\n",
      "C:\\Users\\lizhiyou\\AppData\\Local\\Temp\\ipykernel_916\\4111443500.py:6: DeprecationWarning: Call to deprecated `__getitem__` (Method will be removed in 4.0.0, use self.wv.__getitem__() instead).\n",
      "  tmp = [word2vec_model[word] for word in doc if word in word2vec_model]\n",
      "100%|█████████████████████████████████████████████████████████████████████████████| 6000/6000 [00:11<00:00, 519.12it/s]\n"
     ]
    },
    {
     "name": "stdout",
     "output_type": "stream",
     "text": [
      "零向量占比 0.00016666666666666666\n",
      "              precision    recall  f1-score   support\n",
      "\n",
      "           0       0.98      1.00      0.99      5887\n",
      "           1       0.00      0.00      0.00       113\n",
      "\n",
      "    accuracy                           0.98      6000\n",
      "   macro avg       0.49      0.50      0.50      6000\n",
      "weighted avg       0.96      0.98      0.97      6000\n",
      "\n"
     ]
    },
    {
     "name": "stderr",
     "output_type": "stream",
     "text": [
      "D:\\anaconda\\anaconda3\\lib\\site-packages\\sklearn\\metrics\\_classification.py:1469: UndefinedMetricWarning: Precision and F-score are ill-defined and being set to 0.0 in labels with no predicted samples. Use `zero_division` parameter to control this behavior.\n",
      "  _warn_prf(average, modifier, msg_start, len(result))\n",
      "D:\\anaconda\\anaconda3\\lib\\site-packages\\sklearn\\metrics\\_classification.py:1469: UndefinedMetricWarning: Precision and F-score are ill-defined and being set to 0.0 in labels with no predicted samples. Use `zero_division` parameter to control this behavior.\n",
      "  _warn_prf(average, modifier, msg_start, len(result))\n",
      "D:\\anaconda\\anaconda3\\lib\\site-packages\\sklearn\\metrics\\_classification.py:1469: UndefinedMetricWarning: Precision and F-score are ill-defined and being set to 0.0 in labels with no predicted samples. Use `zero_division` parameter to control this behavior.\n",
      "  _warn_prf(average, modifier, msg_start, len(result))\n"
     ]
    }
   ],
   "source": [
    "rf_model = RandomForestClassifier()\n",
    "rf_model.fit(doc_vec_s3, y_train)\n",
    "predicted = rf_model.predict(get_doc_vec(x_test, word2vec_model))\n",
    "print(metrics.classification_report(y_test, predicted))"
   ]
  },
  {
   "cell_type": "markdown",
   "id": "65b71b5b",
   "metadata": {},
   "source": [
    "# 均衡规模"
   ]
  },
  {
   "cell_type": "code",
   "execution_count": 79,
   "id": "8e761a0f",
   "metadata": {},
   "outputs": [
    {
     "name": "stderr",
     "output_type": "stream",
     "text": [
      "<>:1: SyntaxWarning: \"is\" with a literal. Did you mean \"==\"?\n",
      "<>:2: SyntaxWarning: \"is\" with a literal. Did you mean \"==\"?\n",
      "<>:1: SyntaxWarning: \"is\" with a literal. Did you mean \"==\"?\n",
      "<>:2: SyntaxWarning: \"is\" with a literal. Did you mean \"==\"?\n",
      "C:\\Users\\lizhiyou\\AppData\\Local\\Temp\\ipykernel_916\\1684403539.py:1: SyntaxWarning: \"is\" with a literal. Did you mean \"==\"?\n",
      "  x_train_0 = [x_train[i] for i in range(len(x_train)) if y_train[i] is 0]\n",
      "C:\\Users\\lizhiyou\\AppData\\Local\\Temp\\ipykernel_916\\1684403539.py:2: SyntaxWarning: \"is\" with a literal. Did you mean \"==\"?\n",
      "  x_train_1 = [x_train[i] for i in range(len(x_train)) if y_train[i] is 1]\n"
     ]
    }
   ],
   "source": [
    "x_train_0 = [x_train[i] for i in range(len(x_train)) if y_train[i] is 0]\n",
    "x_train_1 = [x_train[i] for i in range(len(x_train)) if y_train[i] is 1]"
   ]
  },
  {
   "cell_type": "code",
   "execution_count": 80,
   "id": "71029b30",
   "metadata": {},
   "outputs": [
    {
     "name": "stdout",
     "output_type": "stream",
     "text": [
      "13725\n",
      "275\n"
     ]
    }
   ],
   "source": [
    "x_train_0 = [x_train[i] for i in range(len(x_train)) if y_train[i] is 0]\n",
    "x_train_1 = [x_train[i] for i in range(len(x_train)) if y_train[i] is 1]\n",
    "print(len(x_train_0))\n",
    "print(len(x_train_1))"
   ]
  },
  {
   "cell_type": "code",
   "execution_count": 81,
   "id": "ce0fd6ed",
   "metadata": {},
   "outputs": [],
   "source": [
    "import random\n",
    "x_train_0_balanced = random.sample(x_train_0, len(x_train_1))"
   ]
  },
  {
   "cell_type": "code",
   "execution_count": 82,
   "id": "2ad02936",
   "metadata": {},
   "outputs": [
    {
     "name": "stdout",
     "output_type": "stream",
     "text": [
      "275\n",
      "275\n"
     ]
    }
   ],
   "source": [
    "print(len(x_train_0_balanced))\n",
    "print(len(x_train_1))"
   ]
  },
  {
   "cell_type": "code",
   "execution_count": 83,
   "id": "4f6f50c8",
   "metadata": {},
   "outputs": [
    {
     "name": "stdout",
     "output_type": "stream",
     "text": [
      "550\n",
      "550\n"
     ]
    }
   ],
   "source": [
    "# 合成新的x_train和y_train\n",
    "tuples = [(item, 0) for item in x_train_0_balanced] + [(item, 1) for item in x_train_1]\n",
    "random.shuffle(tuples)  # 打乱顺序\n",
    "x_train = [item[0] for item in tuples]\n",
    "y_train = [item[1] for item in tuples]\n",
    "\n",
    "print(len(x_train))\n",
    "print(len(y_train))"
   ]
  },
  {
   "cell_type": "code",
   "execution_count": 84,
   "id": "3e67d579",
   "metadata": {},
   "outputs": [
    {
     "name": "stderr",
     "output_type": "stream",
     "text": [
      "  0%|                                                                                          | 0/550 [00:00<?, ?it/s]C:\\Users\\lizhiyou\\AppData\\Local\\Temp\\ipykernel_916\\4111443500.py:6: DeprecationWarning: Call to deprecated `__contains__` (Method will be removed in 4.0.0, use self.wv.__contains__() instead).\n",
      "  tmp = [word2vec_model[word] for word in doc if word in word2vec_model]\n",
      "C:\\Users\\lizhiyou\\AppData\\Local\\Temp\\ipykernel_916\\4111443500.py:6: DeprecationWarning: Call to deprecated `__getitem__` (Method will be removed in 4.0.0, use self.wv.__getitem__() instead).\n",
      "  tmp = [word2vec_model[word] for word in doc if word in word2vec_model]\n",
      "100%|███████████████████████████████████████████████████████████████████████████████| 550/550 [00:01<00:00, 466.95it/s]\n"
     ]
    },
    {
     "name": "stdout",
     "output_type": "stream",
     "text": [
      "零向量占比 0.0\n"
     ]
    },
    {
     "name": "stderr",
     "output_type": "stream",
     "text": [
      "  0%|                                                                                         | 0/6000 [00:00<?, ?it/s]C:\\Users\\lizhiyou\\AppData\\Local\\Temp\\ipykernel_916\\4111443500.py:6: DeprecationWarning: Call to deprecated `__contains__` (Method will be removed in 4.0.0, use self.wv.__contains__() instead).\n",
      "  tmp = [word2vec_model[word] for word in doc if word in word2vec_model]\n",
      "C:\\Users\\lizhiyou\\AppData\\Local\\Temp\\ipykernel_916\\4111443500.py:6: DeprecationWarning: Call to deprecated `__getitem__` (Method will be removed in 4.0.0, use self.wv.__getitem__() instead).\n",
      "  tmp = [word2vec_model[word] for word in doc if word in word2vec_model]\n",
      "100%|█████████████████████████████████████████████████████████████████████████████| 6000/6000 [00:10<00:00, 597.24it/s]\n"
     ]
    },
    {
     "name": "stdout",
     "output_type": "stream",
     "text": [
      "零向量占比 0.00016666666666666666\n",
      "              precision    recall  f1-score   support\n",
      "\n",
      "           0       0.99      0.70      0.82      5887\n",
      "           1       0.05      0.81      0.09       113\n",
      "\n",
      "    accuracy                           0.70      6000\n",
      "   macro avg       0.52      0.75      0.46      6000\n",
      "weighted avg       0.98      0.70      0.80      6000\n",
      "\n"
     ]
    }
   ],
   "source": [
    "rf_model = RandomForestClassifier()\n",
    "rf_model.fit(get_doc_vec(x_train, word2vec_model), y_train)\n",
    "predicted = rf_model.predict(get_doc_vec(x_test, word2vec_model))\n",
    "print(metrics.classification_report(y_true=y_test, y_pred=predicted))"
   ]
  },
  {
   "cell_type": "code",
   "execution_count": 85,
   "id": "1fba040e",
   "metadata": {},
   "outputs": [
    {
     "name": "stderr",
     "output_type": "stream",
     "text": [
      "  0%|                                                                                          | 0/550 [00:00<?, ?it/s]C:\\Users\\lizhiyou\\AppData\\Local\\Temp\\ipykernel_916\\4111443500.py:6: DeprecationWarning: Call to deprecated `__contains__` (Method will be removed in 4.0.0, use self.wv.__contains__() instead).\n",
      "  tmp = [word2vec_model[word] for word in doc if word in word2vec_model]\n",
      "C:\\Users\\lizhiyou\\AppData\\Local\\Temp\\ipykernel_916\\4111443500.py:6: DeprecationWarning: Call to deprecated `__getitem__` (Method will be removed in 4.0.0, use self.wv.__getitem__() instead).\n",
      "  tmp = [word2vec_model[word] for word in doc if word in word2vec_model]\n",
      "100%|███████████████████████████████████████████████████████████████████████████████| 550/550 [00:00<00:00, 567.36it/s]\n"
     ]
    },
    {
     "name": "stdout",
     "output_type": "stream",
     "text": [
      "零向量占比 0.0\n"
     ]
    },
    {
     "name": "stderr",
     "output_type": "stream",
     "text": [
      "  0%|                                                                                         | 0/6000 [00:00<?, ?it/s]C:\\Users\\lizhiyou\\AppData\\Local\\Temp\\ipykernel_916\\4111443500.py:6: DeprecationWarning: Call to deprecated `__contains__` (Method will be removed in 4.0.0, use self.wv.__contains__() instead).\n",
      "  tmp = [word2vec_model[word] for word in doc if word in word2vec_model]\n",
      "C:\\Users\\lizhiyou\\AppData\\Local\\Temp\\ipykernel_916\\4111443500.py:6: DeprecationWarning: Call to deprecated `__getitem__` (Method will be removed in 4.0.0, use self.wv.__getitem__() instead).\n",
      "  tmp = [word2vec_model[word] for word in doc if word in word2vec_model]\n",
      "100%|█████████████████████████████████████████████████████████████████████████████| 6000/6000 [00:09<00:00, 633.80it/s]\n"
     ]
    },
    {
     "name": "stdout",
     "output_type": "stream",
     "text": [
      "零向量占比 0.00016666666666666666\n"
     ]
    }
   ],
   "source": [
    "doc_vec_s3 = get_doc_vec(x_train, word2vec_model)\n",
    "svm_model = SVC()\n",
    "svm_model.fit(doc_vec_s3, y_train)\n",
    "predicted = svm_model.predict(get_doc_vec(x_test, word2vec_model))"
   ]
  },
  {
   "cell_type": "code",
   "execution_count": 86,
   "id": "d8f54aeb",
   "metadata": {},
   "outputs": [
    {
     "name": "stdout",
     "output_type": "stream",
     "text": [
      "              precision    recall  f1-score   support\n",
      "\n",
      "           0       0.99      0.68      0.81      5887\n",
      "           1       0.05      0.81      0.09       113\n",
      "\n",
      "    accuracy                           0.69      6000\n",
      "   macro avg       0.52      0.75      0.45      6000\n",
      "weighted avg       0.98      0.69      0.80      6000\n",
      "\n"
     ]
    }
   ],
   "source": [
    "print(metrics.classification_report(y_true=y_test, y_pred=predicted))"
   ]
  },
  {
   "cell_type": "code",
   "execution_count": null,
   "id": "f95b4a06",
   "metadata": {},
   "outputs": [],
   "source": []
  },
  {
   "cell_type": "code",
   "execution_count": null,
   "id": "6e08f7b7",
   "metadata": {},
   "outputs": [],
   "source": []
  }
 ],
 "metadata": {
  "kernelspec": {
   "display_name": "Python 3 (ipykernel)",
   "language": "python",
   "name": "python3"
  },
  "language_info": {
   "codemirror_mode": {
    "name": "ipython",
    "version": 3
   },
   "file_extension": ".py",
   "mimetype": "text/x-python",
   "name": "python",
   "nbconvert_exporter": "python",
   "pygments_lexer": "ipython3",
   "version": "3.9.13"
  },
  "toc": {
   "base_numbering": 1,
   "nav_menu": {},
   "number_sections": true,
   "sideBar": true,
   "skip_h1_title": false,
   "title_cell": "Table of Contents",
   "title_sidebar": "Contents",
   "toc_cell": false,
   "toc_position": {},
   "toc_section_display": true,
   "toc_window_display": false
  },
  "varInspector": {
   "cols": {
    "lenName": 16,
    "lenType": 16,
    "lenVar": 40
   },
   "kernels_config": {
    "python": {
     "delete_cmd_postfix": "",
     "delete_cmd_prefix": "del ",
     "library": "var_list.py",
     "varRefreshCmd": "print(var_dic_list())"
    },
    "r": {
     "delete_cmd_postfix": ") ",
     "delete_cmd_prefix": "rm(",
     "library": "var_list.r",
     "varRefreshCmd": "cat(var_dic_list()) "
    }
   },
   "types_to_exclude": [
    "module",
    "function",
    "builtin_function_or_method",
    "instance",
    "_Feature"
   ],
   "window_display": false
  }
 },
 "nbformat": 4,
 "nbformat_minor": 5
}
